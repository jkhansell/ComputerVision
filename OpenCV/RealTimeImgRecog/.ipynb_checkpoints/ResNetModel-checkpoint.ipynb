{
 "cells": [
  {
   "cell_type": "code",
   "execution_count": 2,
   "id": "59f232ad",
   "metadata": {},
   "outputs": [],
   "source": [
    "import torch\n",
    "import torchvision\n",
    "import cv2\n",
    "import numpy as np"
   ]
  },
  {
   "cell_type": "code",
   "execution_count": 3,
   "id": "567e6aa6",
   "metadata": {},
   "outputs": [],
   "source": [
    "stream = cv2.VideoCapture(0)"
   ]
  },
  {
   "cell_type": "code",
   "execution_count": 4,
   "id": "ac28218a",
   "metadata": {},
   "outputs": [],
   "source": [
    "model = torchvision.models.resnet50()"
   ]
  },
  {
   "cell_type": "code",
   "execution_count": 5,
   "id": "f2fcfb48",
   "metadata": {},
   "outputs": [],
   "source": [
    "def score_frame(frame, model): \n",
    "    device = 'cuda' if torch.cuda.is_available() else 'cpu'\n",
    "    model.to(device)\n",
    "    frame = [torch.tensor(frame)]\n",
    "    results = model(frame) \n",
    "    labels = results.xyxyn[0][:, -1].numpy() \n",
    "    cord = results.xyxyn[0][:,:-1].numpy()\n",
    "    return labels, cord"
   ]
  },
  {
   "cell_type": "code",
   "execution_count": null,
   "id": "02585bdd",
   "metadata": {},
   "outputs": [],
   "source": []
  }
 ],
 "metadata": {
  "kernelspec": {
   "display_name": "Python 3 (ipykernel)",
   "language": "python",
   "name": "python3"
  },
  "language_info": {
   "codemirror_mode": {
    "name": "ipython",
    "version": 3
   },
   "file_extension": ".py",
   "mimetype": "text/x-python",
   "name": "python",
   "nbconvert_exporter": "python",
   "pygments_lexer": "ipython3",
   "version": "3.8.13"
  },
  "vscode": {
   "interpreter": {
    "hash": "e719183902779eadfd55d726333f455b6d0e11eb015e31d9a869593b28cd30ff"
   }
  }
 },
 "nbformat": 4,
 "nbformat_minor": 5
}
